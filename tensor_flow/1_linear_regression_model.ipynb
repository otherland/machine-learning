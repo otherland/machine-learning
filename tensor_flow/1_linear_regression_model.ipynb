{
 "cells": [
  {
   "cell_type": "markdown",
   "metadata": {},
   "source": [
    "# What are we trying to do?\n",
    "\n",
    "**Mystery equation**: `y = 0.1 * x + 0.3 + noise`\n",
    "\n",
    "**Model**: `y = W * x + b`\n",
    "\n",
    "**Objective**: Given enough (x, y) value samples, figure out the value of W (weight) and b (bias)."
   ]
  },
  {
   "cell_type": "code",
   "execution_count": 1,
   "metadata": {
    "collapsed": false
   },
   "outputs": [],
   "source": [
    "import tensorflow as tf\n",
    "import numpy as np\n",
    "\n",
    "%matplotlib inline\n",
    "import pylab"
   ]
  },
  {
   "cell_type": "code",
   "execution_count": 2,
   "metadata": {
    "collapsed": true
   },
   "outputs": [],
   "source": [
    "# Create input data using numpy\n",
    "x_data = np.random.rand(100).astype(np.float32)\n",
    "noise = np.random.normal(scale=0.01, size=len(x_data))\n",
    "y_data = x_data * 0.1 + 0.3 + noise"
   ]
  },
  {
   "cell_type": "code",
   "execution_count": 3,
   "metadata": {
    "collapsed": false
   },
   "outputs": [
    {
     "data": {
      "text/plain": [
       "[<matplotlib.lines.Line2D at 0x10cc659e8>]"
      ]
     },
     "execution_count": 3,
     "metadata": {},
     "output_type": "execute_result"
    },
    {
     "data": {
      "image/png": "[encoded data removed]",
      "text/plain": [
       "<matplotlib.figure.Figure at 0x104a09f28>"
      ]
     },
     "metadata": {},
     "output_type": "display_data"
    }
   ],
   "source": [
    "pylab.plot(x_data, y_data, '.')"
   ]
  },
  {
   "cell_type": "markdown",
   "metadata": {},
   "source": [
    "## Build inference graph"
   ]
  },
  {
   "cell_type": "code",
   "execution_count": 4,
   "metadata": {
    "collapsed": false
   },
   "outputs": [
    {
     "name": "stdout",
     "output_type": "stream",
     "text": [
      "Weight:0 <tensorflow.python.ops.variables.Variable object at 0x10cc26cc0>\n",
      "Bias:0 <tensorflow.python.ops.variables.Variable object at 0x10cc26c18>\n"
     ]
    }
   ],
   "source": [
    "# Create variables W (weight) and b (bias) that compute y_data = W * x + b\n",
    "W = tf.Variable(tf.random_uniform([1], 0.0, 1.0), name=\"Weight\")\n",
    "b = tf.Variable(tf.zeros([1]), name=\"Bias\")\n",
    "y = W * x_data + b\n",
    "\n",
    "print(W.name, W)\n",
    "print(b.name, b)"
   ]
  },
  {
   "cell_type": "markdown",
   "metadata": {},
   "source": [
    "## Build training graph"
   ]
  },
  {
   "cell_type": "code",
   "execution_count": 52,
   "metadata": {
    "collapsed": false
   },
   "outputs": [
    {
     "name": "stdout",
     "output_type": "stream",
     "text": [
      "Loss: Tensor(\"Mean_9:0\", shape=(), dtype=float32)\n",
      "Optimizer: <tensorflow.python.training.gradient_descent.GradientDescentOptimizer object at 0x10d0169e8>\n",
      "Train: name: \"GradientDescent_4\"\n",
      "op: \"NoOp\"\n",
      "input: \"^GradientDescent_4/update_Weight/ApplyGradientDescent\"\n",
      "input: \"^GradientDescent_4/update_Bias/ApplyGradientDescent\"\n",
      "\n",
      "Init: name: \"init_9\"\n",
      "op: \"NoOp\"\n",
      "input: \"^Weight/Assign\"\n",
      "input: \"^Bias/Assign\"\n",
      "input: \"^beta1_power/Assign\"\n",
      "input: \"^beta2_power/Assign\"\n",
      "input: \"^Weight/Adam/Assign\"\n",
      "input: \"^Weight/Adam_1/Assign\"\n",
      "input: \"^Bias/Adam/Assign\"\n",
      "input: \"^Bias/Adam_1/Assign\"\n",
      "input: \"^Weight/Ftrl/Assign\"\n",
      "input: \"^Weight/Ftrl_1/Assign\"\n",
      "input: \"^Bias/Ftrl/Assign\"\n",
      "input: \"^Bias/Ftrl_1/Assign\"\n",
      "input: \"^Weight/Ftrl_2/Assign\"\n",
      "input: \"^Weight/Ftrl_3/Assign\"\n",
      "input: \"^Bias/Ftrl_2/Assign\"\n",
      "input: \"^Bias/Ftrl_3/Assign\"\n",
      "input: \"^Weight/Ftrl_4/Assign\"\n",
      "input: \"^Weight/Ftrl_5/Assign\"\n",
      "input: \"^Bias/Ftrl_4/Assign\"\n",
      "input: \"^Bias/Ftrl_5/Assign\"\n",
      "input: \"^Weight/Adagrad/Assign\"\n",
      "input: \"^Bias/Adagrad/Assign\"\n",
      "\n"
     ]
    }
   ],
   "source": [
    "# Operation that calculates loss\n",
    "loss = tf.reduce_mean(tf.square(y - y_data))\n",
    "\n",
    "# Create an optimizer\n",
    "optimizer = tf.train.GradientDescentOptimizer(0.1)\n",
    "\n",
    "# Operation that minimizes loss\n",
    "train = optimizer.minimize(loss)\n",
    "\n",
    "# Operation that initializes all the variables\n",
    "init = tf.initialize_all_variables()\n",
    "\n",
    "print(\"Loss:\", loss)\n",
    "print(\"Optimizer:\", optimizer)\n",
    "print(\"Train:\", train)\n",
    "print(\"Init:\", init)"
   ]
  },
  {
   "cell_type": "code",
   "execution_count": 48,
   "metadata": {
    "collapsed": false
   },
   "outputs": [],
   "source": [
    "# Uncomment to VISUALISE the neural network.\n",
    "\n",
    "# print(tf.get_default_graph().as_graph_def())"
   ]
  },
  {
   "cell_type": "markdown",
   "metadata": {},
   "source": [
    "## Create session and launch the graph"
   ]
  },
  {
   "cell_type": "code",
   "execution_count": 49,
   "metadata": {
    "collapsed": false
   },
   "outputs": [
    {
     "name": "stdout",
     "output_type": "stream",
     "text": [
      "[array([ 0.13542426], dtype=float32), array([ 0.], dtype=float32)]\n"
     ]
    }
   ],
   "source": [
    "sess = tf.Session()\n",
    "sess.run(init)\n",
    "y_initial_values = sess.run(y)\n",
    "\n",
    "print(sess.run([W, b]))"
   ]
  },
  {
   "cell_type": "markdown",
   "metadata": {},
   "source": [
    "## Perform training"
   ]
  },
  {
   "cell_type": "code",
   "execution_count": 50,
   "metadata": {
    "collapsed": false
   },
   "outputs": [
    {
     "name": "stdout",
     "output_type": "stream",
     "text": [
      "0 [array([ 0.26364648], dtype=float32), array([ 0.17474757], dtype=float32)]\n",
      "20 [array([ 0.14596558], dtype=float32), array([ 0.27628872], dtype=float32)]\n",
      "40 [array([ 0.11213099], dtype=float32), array([ 0.29448202], dtype=float32)]\n",
      "60 [array([ 0.10390897], dtype=float32), array([ 0.29890281], dtype=float32)]\n",
      "80 [array([ 0.10191021], dtype=float32), array([ 0.29997748], dtype=float32)]\n",
      "100 [array([ 0.10142434], dtype=float32), array([ 0.30023873], dtype=float32)]\n",
      "120 [array([ 0.10130619], dtype=float32), array([ 0.30030227], dtype=float32)]\n",
      "140 [array([ 0.10127749], dtype=float32), array([ 0.30031767], dtype=float32)]\n",
      "160 [array([ 0.10127052], dtype=float32), array([ 0.30032143], dtype=float32)]\n",
      "180 [array([ 0.10126884], dtype=float32), array([ 0.30032235], dtype=float32)]\n",
      "200 [array([ 0.10126841], dtype=float32), array([ 0.30032256], dtype=float32)]\n",
      "[array([ 0.10126841], dtype=float32), array([ 0.30032256], dtype=float32)]\n"
     ]
    }
   ],
   "source": [
    "for step in range(201):\n",
    "    sess.run(train)\n",
    "    if step % 20 == 0:\n",
    "        print(step, sess.run([W, b]))\n",
    "\n",
    "print(sess.run([W, b]))"
   ]
  },
  {
   "cell_type": "markdown",
   "metadata": {},
   "source": [
    "## Test to see if we're successful"
   ]
  },
  {
   "cell_type": "code",
   "execution_count": 51,
   "metadata": {
    "collapsed": false
   },
   "outputs": [
    {
     "data": {
      "text/plain": [
       "(0, 1.0)"
      ]
     },
     "execution_count": 51,
     "metadata": {},
     "output_type": "execute_result"
    },
    {
     "data": {
      "image/png": "[encoded data removed]",
      "text/plain": [
       "<matplotlib.figure.Figure at 0x10d482358>"
      ]
     },
     "metadata": {},
     "output_type": "display_data"
    }
   ],
   "source": [
    "pylab.plot(x_data, y_data, '.', label=\"target_values\")\n",
    "pylab.plot(x_data, y_initial_values, '.', label=\"initial_values\")\n",
    "pylab.plot(x_data, sess.run(y), '.', label=\"trained_values\")\n",
    "pylab.legend()\n",
    "pylab.ylim(0, 1.0)"
   ]
  },
  {
   "cell_type": "code",
   "execution_count": null,
   "metadata": {
    "collapsed": true
   },
   "outputs": [],
   "source": []
  },
  {
   "cell_type": "code",
   "execution_count": null,
   "metadata": {
    "collapsed": true
   },
   "outputs": [],
   "source": []
  }
 ],
 "metadata": {
  "anaconda-cloud": {},
  "kernelspec": {
   "display_name": "tensorflow",
   "language": "python",
   "name": "tensorflow"
  },
  "language_info": {
   "codemirror_mode": {
    "name": "ipython",
    "version": 3
   },
   "file_extension": ".py",
   "mimetype": "text/x-python",
   "name": "python",
   "nbconvert_exporter": "python",
   "pygments_lexer": "ipython3",
   "version": "3.5.2"
  }
 },
 "nbformat": 4,
 "nbformat_minor": 1
}
