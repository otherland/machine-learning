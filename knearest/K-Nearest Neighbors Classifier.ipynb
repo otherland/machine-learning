{
 "cells": [
  {
   "cell_type": "markdown",
   "metadata": {},
   "source": [
    "## Euclidean Distance\n",
    "There are various ways to compute distance on a plane, but the most accepted version is Euclidean Distance.\n",
    "\n",
    "It's named after Euclid, a famous mathematician who is popularly referred to as the father of Geometry.\n",
    "\n",
    "The equation: \n",
    "1. Compute the distance between points (x1 - x2), (y1 - y2)\n",
    "2. Square the distances and add them together (x1 - x2)^2 + (y1 - y2)^2\n",
    "3. Get the square root of this number\n",
    "\n",
    "This is the same formula used in Pythagorean theorem, where the square of the hypotenuse (the side opposite the right angle) is equal to the sum of the squares of the other two sides. a2 + b2 = c2\n",
    "\n",
    "## K-Nearest Neighbors\n",
    "K-Nearest Neighbors is about proximity, not by group, but by individual points. We are finding the \"nearest\" neighbors to a target point P.\n",
    "\n",
    "The algorithm:\n",
    "1. Calculate the Euclidean Distance between all points and the target P.\n",
    "2. Sort the distances by increasing order (smallest at the start).\n",
    "3. Get the first K distances.\n",
    "\n"
   ]
  },
  {
   "cell_type": "code",
   "execution_count": 3,
   "metadata": {
    "collapsed": false
   },
   "outputs": [
    {
     "name": "stdout",
     "output_type": "stream",
     "text": [
      "2.23606797749979\n"
     ]
    }
   ],
   "source": [
    "from math import sqrt\n",
    "\n",
    "plot1 = [1,3]\n",
    "plot2 = [2,5]\n",
    "euclidean_distance = sqrt( (plot1[0]-plot2[0])**2 + (plot1[1]-plot2[1])**2 )\n",
    "\n",
    "print(euclidean_distance)"
   ]
  },
  {
   "cell_type": "code",
   "execution_count": 4,
   "metadata": {
    "collapsed": true
   },
   "outputs": [],
   "source": [
    "import numpy as np\n",
    "from math import sqrt\n",
    "from collections import Counter\n",
    "import warnings\n",
    "\n",
    "import matplotlib.pyplot as plt\n",
    "from matplotlib import style\n",
    "style.use('fivethirtyeight')"
   ]
  },
  {
   "cell_type": "code",
   "execution_count": 10,
   "metadata": {
    "collapsed": true
   },
   "outputs": [],
   "source": [
    "# They keys are the color of the points, and can be thought of as the Class.\n",
    "dataset = {'k':[[1,2],[2,3],[3,1]], 'r':[[6,5],[7,7],[8,6]]}\n",
    "\n",
    "# This is the data that we want to test:\n",
    "new_features = [5,7]"
   ]
  },
  {
   "cell_type": "code",
   "execution_count": 11,
   "metadata": {
    "collapsed": false
   },
   "outputs": [
    {
     "data": {
      "image/png": "[encoded data removed]",
      "text/plain": [
       "<matplotlib.figure.Figure at 0x10d639a90>"
      ]
     },
     "metadata": {},
     "output_type": "display_data"
    }
   ],
   "source": [
    "[[plt.scatter(j[0], j[1], s=100, color=i) for j in dataset[i]] for i in dataset]\n",
    "plt.scatter(new_features[0], new_features[1], s=100)\n",
    "\n",
    "plt.show()"
   ]
  },
  {
   "cell_type": "markdown",
   "metadata": {},
   "source": [
    "The blue dot is the new_features, which we're going to attempt to classify."
   ]
  },
  {
   "cell_type": "code",
   "execution_count": 53,
   "metadata": {
    "collapsed": false
   },
   "outputs": [],
   "source": [
    "def k_nearest_neighbors(data, predict, k=3):\n",
    "    if len(data) >= k:\n",
    "        warnings.warn('K is set to a value less than the length of the data.')\n",
    "\n",
    "    distances = []\n",
    "    for group in data:\n",
    "        for features in data[group]:\n",
    "            \n",
    "            # euclidean_distance = sqrt( (features[0]-predict[0])**2 + (features[1]-predict[1])**2 )\n",
    "            \n",
    "            # While the above is arguably the clearest implementation, we can speed things up quite a bit with Numpy.\n",
    "            euclidean_distance = np.sqrt(np.sum((np.array(features) - np.array(predict))**2))\n",
    "            \n",
    "            distances.append([euclidean_distance,group])\n",
    "    \n",
    "    print(distances)"
   ]
  },
  {
   "cell_type": "markdown",
   "metadata": {},
   "source": [
    "We loop over the groups, calculating the distance, labelling the distance with the group, ('r' for red, 'k' for black) for each point and adding it to the distances array. The function isn't complete, but let's take a look at what it's doing already."
   ]
  },
  {
   "cell_type": "code",
   "execution_count": 49,
   "metadata": {
    "collapsed": false
   },
   "outputs": [
    {
     "data": {
      "text/plain": [
       "[[2.2360679774997898, 'r'],\n",
       " [2.0, 'r'],\n",
       " [3.1622776601683795, 'r'],\n",
       " [6.4031242374328485, 'k'],\n",
       " [5.0, 'k'],\n",
       " [6.324555320336759, 'k']]"
      ]
     },
     "execution_count": 49,
     "metadata": {},
     "output_type": "execute_result"
    }
   ],
   "source": [
    "k_nearest_neighbors(dataset, new_features)"
   ]
  },
  {
   "cell_type": "markdown",
   "metadata": {},
   "source": [
    "If you're unsure about the Numpy syntax above, the following should help:"
   ]
  },
  {
   "cell_type": "code",
   "execution_count": 26,
   "metadata": {
    "collapsed": false
   },
   "outputs": [
    {
     "data": {
      "text/plain": [
       "2"
      ]
     },
     "execution_count": 26,
     "metadata": {},
     "output_type": "execute_result"
    }
   ],
   "source": [
    "a, b = [3,4], [2,3]\n",
    "\n",
    "# These two expressions are equivalent\n",
    "(a[0] - b[0]) + (a[1] - b[1])\n",
    "\n",
    "np.sum(np.array(a) - np.array(b))"
   ]
  },
  {
   "cell_type": "markdown",
   "metadata": {},
   "source": [
    "## Norm vs Distance\n",
    "\n",
    "Turns out Numpy has some useful linear algebra functions built-in!\n",
    "\n",
    "**Euclidean Distance** is the name for measuring the length of a line segment between points. \n",
    "\n",
    "**Euclidean Norm** measures the magnitude (length) of a vector.\n",
    "\n",
    "The equations are the same. The name just tells you in what space you're using the equation."
   ]
  },
  {
   "cell_type": "code",
   "execution_count": 55,
   "metadata": {
    "collapsed": false
   },
   "outputs": [
    {
     "name": "stdout",
     "output_type": "stream",
     "text": [
      "5.29150262213\n",
      "5.29150262213\n"
     ]
    }
   ],
   "source": [
    "distances = np.array([[5,2],[6,3],[3,1]]) - np.array([2,2])\n",
    "euclidean_distance = np.sqrt(np.sum(distances**2))\n",
    "print(euclidean_distance)\n",
    "\n",
    "euclidean_norm = np.linalg.norm(distances)\n",
    "print(euclidean_norm)"
   ]
  },
  {
   "cell_type": "markdown",
   "metadata": {},
   "source": [
    "## Let's complete the function"
   ]
  },
  {
   "cell_type": "code",
   "execution_count": 63,
   "metadata": {
    "collapsed": false
   },
   "outputs": [],
   "source": [
    "def k_nearest_neighbors(data, predict, k=3):\n",
    "    if len(data) >= k:\n",
    "        warnings.warn('K is set to a value less than total voting groups!')\n",
    "        \n",
    "    distances = []\n",
    "    for group in data:\n",
    "        for features in data[group]:\n",
    "            # Note we are now using the Euclidean Norm algorithm\n",
    "            euclidean_distance = np.linalg.norm(np.array(features)-np.array(predict))\n",
    "            distances.append([euclidean_distance,group])\n",
    "\n",
    "    # We sort the distances and take the first k elements\n",
    "    distances = sorted(distances)[:k]\n",
    "    \n",
    "    # We only need the class, e.g 'r' not the distance\n",
    "    votes = [i[1] for i in distances]\n",
    "    \n",
    "    # We return the most common class\n",
    "    vote_result = Counter(votes).most_common(1)[0][0]\n",
    "    return vote_result"
   ]
  },
  {
   "cell_type": "markdown",
   "metadata": {},
   "source": [
    "## Testing time!\n",
    "\n",
    "1. Declare the dataset and the new_features again for clarity.\n",
    "2. Plot the dataset.\n",
    "3. Predict the class (color) that new_features belongs to.\n",
    "4. Plot new features with the predicted color."
   ]
  },
  {
   "cell_type": "code",
   "execution_count": 64,
   "metadata": {
    "collapsed": false
   },
   "outputs": [
    {
     "data": {
      "image/png": "[encoded data removed]",
      "text/plain": [
       "<matplotlib.figure.Figure at 0x10de52908>"
      ]
     },
     "metadata": {},
     "output_type": "display_data"
    }
   ],
   "source": [
    "dataset = {'k':[[1,2],[2,3],[3,1]], 'r':[[6,5],[7,7],[8,6]]}\n",
    "new_features = [5,7]\n",
    "[[plt.scatter(ii[0], ii[1], s=100, color=i) for ii in dataset[i]] for i in dataset]\n",
    "        \n",
    "result = k_nearest_neighbors(dataset, new_features)\n",
    "plt.scatter(new_features[0], new_features[1], s=100, color = result)  \n",
    "plt.show()"
   ]
  },
  {
   "cell_type": "markdown",
   "metadata": {},
   "source": [
    "### Test again!\n",
    "\n",
    "Let's test with a different point."
   ]
  },
  {
   "cell_type": "code",
   "execution_count": 72,
   "metadata": {
    "collapsed": false
   },
   "outputs": [
    {
     "data": {
      "image/png": "[encoded data removed]",
      "text/plain": [
       "<matplotlib.figure.Figure at 0x10dd37898>"
      ]
     },
     "metadata": {},
     "output_type": "display_data"
    }
   ],
   "source": [
    "new_features = [4,4]\n",
    "[[plt.scatter(ii[0], ii[1], s=100, color=i) for ii in dataset[i]] for i in dataset]\n",
    "        \n",
    "result = k_nearest_neighbors(dataset, new_features)\n",
    "plt.scatter(new_features[0], new_features[1], s=100, color = result)  \n",
    "plt.show()"
   ]
  },
  {
   "cell_type": "markdown",
   "metadata": {},
   "source": [
    "# Real data\n",
    "\n",
    "Let's revisit the breast cancer dataset that tracked tumor attributes and classified them as benign or malignant. \n",
    "\n",
    "The Scikit-Learn K Nearest Neighbors gave us ~95% accuracy on average, and now we're going to test our own algorithm."
   ]
  },
  {
   "cell_type": "code",
   "execution_count": 80,
   "metadata": {
    "collapsed": false
   },
   "outputs": [],
   "source": [
    "import pandas as pd\n",
    "import random\n",
    "\n",
    "df = pd.read_csv('data/breast-cancer-wisconsin.data')\n",
    "df.replace('?',-99999, inplace=True)\n",
    "df.drop(['id'], 1, inplace=True)\n",
    "full_data = df.astype(float).values.tolist()"
   ]
  },
  {
   "cell_type": "code",
   "execution_count": 83,
   "metadata": {
    "collapsed": true
   },
   "outputs": [],
   "source": [
    "random.shuffle(full_data)\n",
    "\n",
    "test_size = 0.2 # 20%\n",
    "\n",
    "# 2 is the class that refers to benign tumors\n",
    "# 4 refers to malignant tumors\n",
    "train_set = {2:[], 4:[]}\n",
    "test_set = {2:[], 4:[]}\n",
    "\n",
    "\n",
    "# First 80% of the shuffled data\n",
    "train_data = full_data[:-int(test_size*len(full_data))]\n",
    "\n",
    "# Remaining 20% of the shuffled data\n",
    "test_data = full_data[-int(test_size*len(full_data)):]\n",
    "\n",
    "\n",
    "# Add the data to the dictionaries\n",
    "for i in train_data:\n",
    "    cls = i[-1] # last column\n",
    "    train_set[cls].append(i[:-1]) # append all but the last column\n",
    "\n",
    "for i in test_data:\n",
    "    cls = i[-1]\n",
    "    test_set[cls].append(i[:-1])"
   ]
  },
  {
   "cell_type": "markdown",
   "metadata": {},
   "source": [
    "## Training and testing time!\n",
    "\n",
    "KNN\n",
    "\n",
    "**Training:** Simply having the train_data points in memory\n",
    "\n",
    "**Testing:** Comparing distances and seeing if it classified correctly\n",
    "\n",
    "\n",
    "1. Iterate through the the classes (2 or 4) in the test set\n",
    "2. Iterate through each datapoint\n",
    "3. Feed that datapoint to k_nearest_neighbors, with training data, and then our choice for k, which is 5. \n",
    "4. I chose 5 purely because that's the default for the Scikit Learn KNeighborsClassifier."
   ]
  },
  {
   "cell_type": "code",
   "execution_count": 86,
   "metadata": {
    "collapsed": false
   },
   "outputs": [
    {
     "name": "stdout",
     "output_type": "stream",
     "text": [
      "Correct: 134\n",
      "Total: 139\n",
      "Accuracy: 0.9640287769784173\n"
     ]
    }
   ],
   "source": [
    "correct = 0\n",
    "total = 0\n",
    "\n",
    "for group in test_set:\n",
    "    for data in test_set[group]:\n",
    "        vote = k_nearest_neighbors(train_set, data, k=5)\n",
    "        if group == vote:\n",
    "            correct += 1\n",
    "        total += 1\n",
    "\n",
    "print('Correct:', correct)\n",
    "print('Total:', total)\n",
    "print('Accuracy:', correct/total)"
   ]
  },
  {
   "cell_type": "code",
   "execution_count": null,
   "metadata": {
    "collapsed": true
   },
   "outputs": [],
   "source": []
  }
 ],
 "metadata": {
  "anaconda-cloud": {},
  "kernelspec": {
   "display_name": "Python [conda root]",
   "language": "python",
   "name": "conda-root-py"
  },
  "language_info": {
   "codemirror_mode": {
    "name": "ipython",
    "version": 3
   },
   "file_extension": ".py",
   "mimetype": "text/x-python",
   "name": "python",
   "nbconvert_exporter": "python",
   "pygments_lexer": "ipython3",
   "version": "3.5.2"
  }
 },
 "nbformat": 4,
 "nbformat_minor": 1
}
